{
 "cells": [
  {
   "cell_type": "markdown",
   "metadata": {},
   "source": [
    "Keras is a high level python API which uses either Theano or Tensorflow or CNTK (Microsoft Cognitive Toolkit) as back-end to build and train neural networks. This tutorial was made to self-teach a simple CNN using Keras."
   ]
  },
  {
   "cell_type": "code",
   "execution_count": 54,
   "metadata": {},
   "outputs": [],
   "source": [
    "import keras"
   ]
  },
  {
   "cell_type": "markdown",
   "metadata": {},
   "source": [
    "Here, I have used MNIST database (Modified National Institute of Standards and Technology database) which contains handwritten images from 0 to 9. There are 60,000 images in training set and 10,000 for test set."
   ]
  },
  {
   "cell_type": "code",
   "execution_count": 55,
   "metadata": {},
   "outputs": [],
   "source": [
    "from keras.datasets import mnist"
   ]
  },
  {
   "cell_type": "code",
   "execution_count": 56,
   "metadata": {},
   "outputs": [],
   "source": [
    "from keras.models import Sequential\n",
    "from keras.layers import Dense, Dropout, Flatten, Activation\n",
    "from keras.layers import Conv2D, MaxPooling2D \n",
    "from keras.layers.normalization import BatchNormalization\n",
    "from keras.utils import to_categorical\n",
    "from keras.callbacks import EarlyStopping,ReduceLROnPlateau\n",
    "from keras import backend as K\n",
    "import seaborn as sns"
   ]
  },
  {
   "cell_type": "code",
   "execution_count": 57,
   "metadata": {},
   "outputs": [],
   "source": [
    "import numpy as np\n",
    "seed=101\n",
    "np.random.seed(seed)\n",
    "import pandas as pd\n",
    "import matplotlib.pyplot as plt"
   ]
  },
  {
   "cell_type": "code",
   "execution_count": 58,
   "metadata": {},
   "outputs": [],
   "source": [
    "(X_train,y_train),(X_test,y_test)= mnist.load_data()"
   ]
  },
  {
   "cell_type": "markdown",
   "metadata": {},
   "source": [
    "X_train and X_test are 3-dimensional array of number of instance, image width and height."
   ]
  },
  {
   "cell_type": "code",
   "execution_count": 59,
   "metadata": {},
   "outputs": [
    {
     "data": {
      "text/plain": [
       "(60000, 28, 28)"
      ]
     },
     "execution_count": 59,
     "metadata": {},
     "output_type": "execute_result"
    }
   ],
   "source": [
    "X_train.shape"
   ]
  },
  {
   "cell_type": "code",
   "execution_count": 60,
   "metadata": {},
   "outputs": [
    {
     "data": {
      "text/plain": [
       "(60000,)"
      ]
     },
     "execution_count": 60,
     "metadata": {},
     "output_type": "execute_result"
    }
   ],
   "source": [
    "y_train.shape"
   ]
  },
  {
   "cell_type": "code",
   "execution_count": 61,
   "metadata": {},
   "outputs": [
    {
     "data": {
      "text/plain": [
       "(10000, 28, 28)"
      ]
     },
     "execution_count": 61,
     "metadata": {},
     "output_type": "execute_result"
    }
   ],
   "source": [
    "X_test.shape"
   ]
  },
  {
   "cell_type": "markdown",
   "metadata": {},
   "source": [
    "In order, Keras with Tensorflow back-end accepts the images we reshape our data."
   ]
  },
  {
   "cell_type": "code",
   "execution_count": 62,
   "metadata": {},
   "outputs": [],
   "source": [
    "width, height= 28,28\n",
    "#as the images are grayscale, only one channel is present\n",
    "channel=1\n",
    "x_train=X_train.reshape(X_train.shape[0],width, height,channel).astype('float32')\n",
    "x_test=X_test.reshape(X_test.shape[0],width, height,channel).astype('float32')"
   ]
  },
  {
   "cell_type": "code",
   "execution_count": 63,
   "metadata": {},
   "outputs": [
    {
     "data": {
      "text/plain": [
       "(60000, 28, 28, 1)"
      ]
     },
     "execution_count": 63,
     "metadata": {},
     "output_type": "execute_result"
    }
   ],
   "source": [
    "x_train.shape"
   ]
  },
  {
   "cell_type": "markdown",
   "metadata": {},
   "source": [
    "Our input shape is width, height and number of channels of the images."
   ]
  },
  {
   "cell_type": "code",
   "execution_count": 64,
   "metadata": {},
   "outputs": [],
   "source": [
    "input_shape= (width,height,1)"
   ]
  },
  {
   "cell_type": "markdown",
   "metadata": {},
   "source": [
    "Next, we normalize the pixels values to the range of 0 and 1. "
   ]
  },
  {
   "cell_type": "code",
   "execution_count": 65,
   "metadata": {},
   "outputs": [],
   "source": [
    "x_train/=255\n",
    "x_test/=255"
   ]
  },
  {
   "cell_type": "markdown",
   "metadata": {},
   "source": [
    "Next, I checked first nine x_train samples to see how the data looks like. Also, I checked its corresponding label."
   ]
  },
  {
   "cell_type": "code",
   "execution_count": 66,
   "metadata": {},
   "outputs": [
    {
     "data": {
      "image/png": "[encoded data removed]",
      "text/plain": [
       "<Figure size 720x720 with 9 Axes>"
      ]
     },
     "metadata": {
      "needs_background": "light"
     },
     "output_type": "display_data"
    }
   ],
   "source": [
    "plt.subplots(figsize=(10,10))\n",
    "plt.subplots_adjust (hspace=0.4, wspace=0.2)\n",
    "i=0\n",
    "\n",
    "while i<9:\n",
    "    i+=1\n",
    "    plt.subplot(3,3,i)\n",
    "    plt.imshow(x_train[i][:,:,0])\n",
    "    plt.axis('off')\n",
    "    plt.title(y_train[i])"
   ]
  },
  {
   "cell_type": "markdown",
   "metadata": {},
   "source": [
    "Next, I checked how the distribution of digits looks like."
   ]
  },
  {
   "cell_type": "code",
   "execution_count": 67,
   "metadata": {},
   "outputs": [
    {
     "data": {
      "text/plain": [
       "<matplotlib.axes._subplots.AxesSubplot at 0x137843358>"
      ]
     },
     "execution_count": 67,
     "metadata": {},
     "output_type": "execute_result"
    },
    {
     "data": {
      "image/png": "[encoded data removed]",
      "text/plain": [
       "<Figure size 432x288 with 1 Axes>"
      ]
     },
     "metadata": {
      "needs_background": "light"
     },
     "output_type": "display_data"
    }
   ],
   "source": [
    "sns.countplot(y_train,palette='Paired')"
   ]
  },
  {
   "cell_type": "code",
   "execution_count": 68,
   "metadata": {},
   "outputs": [
    {
     "data": {
      "text/plain": [
       "(60000,)"
      ]
     },
     "execution_count": 68,
     "metadata": {},
     "output_type": "execute_result"
    }
   ],
   "source": [
    "y_train.shape"
   ]
  },
  {
   "cell_type": "code",
   "execution_count": 69,
   "metadata": {},
   "outputs": [
    {
     "data": {
      "text/plain": [
       "3"
      ]
     },
     "execution_count": 69,
     "metadata": {},
     "output_type": "execute_result"
    }
   ],
   "source": [
    "y_train[7]"
   ]
  },
  {
   "cell_type": "markdown",
   "metadata": {},
   "source": [
    "As the labels are in integer form from 0 to 9 and we have a multi-class classification problem, we use one hot encoding to convert them into binary matrix of 10 dimensions(=number of class labels), which is done below."
   ]
  },
  {
   "cell_type": "code",
   "execution_count": 70,
   "metadata": {},
   "outputs": [
    {
     "name": "stdout",
     "output_type": "stream",
     "text": [
      "[0. 0. 0. 1. 0. 0. 0. 0. 0. 0.]\n"
     ]
    },
    {
     "data": {
      "text/plain": [
       "(60000, 10)"
      ]
     },
     "execution_count": 70,
     "metadata": {},
     "output_type": "execute_result"
    }
   ],
   "source": [
    "num_classes=10\n",
    "y_train=to_categorical(y_train, num_classes)\n",
    "y_test=to_categorical(y_test, num_classes)\n",
    "print(y_train[7])\n",
    "y_train.shape"
   ]
  },
  {
   "cell_type": "markdown",
   "metadata": {},
   "source": [
    "### Model architecture\n",
    "\n",
    "Next step is defining the model architecture. In this we decide the architecture of the model i.e. we decide the model (in most cases we take sequential model-which is a linear stack of layers i.e. you keep adding layers one after the other), how many nodes, how many hidden layers we need in each layer, activation function, etc. \n",
    "\n",
    "Here, in the first input layer we have to mention the input shape which is the dimenion of our input data. Convolution layer applies some **convolution filters** (also called kernels) to the image. Each filter performs some mathematical operation on each subregion of the image that produces a single value that is the output feature map. In this operation, the filter slides over the image and everytime it calculates a dot product that gives a single number for each operation. The final output is a matrix. The number of pixels by which the window slides is called **stride**. This operation of convolving the filter on the image is called **convolution**. If the image is of dimension NxN with C number of channels, then we use a filter with dimension of FxF and the number of channels for filter is equal to C. After every convolution, the image size shrinks and becomes (N-F)/S +1. In order to avoid this and to avoid loss of information in the edges of images, we use **padding**. If we use a padding of 2 on both side then the size of the output layer stays the same as the input layer with (N-F+2P)/S+1. \n",
    "\n",
    "There are many ways to initialize the parameters. Here, I have iniatialized weights using 'He-Normal Initialization'. This helps in attaining minima for cost function faster and more efficiently.\n",
    "\n",
    "The convolution layers then apply **activation function** on the output matrix that introduces non-linearity in the model. The most common one is **ReLU** activation function (Rectified Linear Unit) . \n",
    "\n",
    "**Batchnormalization** is a technique to mornalize the input for each layer. It improves speed, performance and stability of the neural network.\n",
    "\n",
    "The number 32,3,3 used here corresponds to the number of convolution filters, the number of rows in each convolution kernel and then number of columns in each convolution kernel respectively. \n",
    "**Pooling layer** can be added after Convolution layer. It reduces the number of parameters, hence overfitting and also reduces computation, decreasing training time. The image data extracted by convolution layers is downsampled by this. One can either use MaxPooling2D which extracts subfeatures of the image, keeps the maximum value and discards the rest or Average Pooling which takes the average of the features. The pooling layers can be of Fx F dimension and slides over the image of dimensions NxN and picks either the maximum or the average from FxF region of the image. Unlike convolution layer, maxpooling does not have specified parameters like weights and bias.\n",
    "**Dropout layer** is important for regularization as it reduces overfitting. Dropout layer randomly silences some nodes in the layer, i.e. the weights associated are made 0. Also reduces computation thereby increasing the training speed of the neural network. \n",
    "\n",
    "Next, the weights from convolution layer has to be flattened, i.e. made into a single dimension, before passing to the **Dense layer**, where every node is connected to all the nodes in the other layer. \n",
    "\n",
    "As there are multiple classes in this dataset we have used 'Softmax' activation. For binary classification a 'Sigmoid' activation can be used instead.\n"
   ]
  },
  {
   "cell_type": "code",
   "execution_count": 19,
   "metadata": {},
   "outputs": [],
   "source": [
    "model=Sequential()\n",
    "model.add(Conv2D(64, kernel_size=(3, 3),input_shape=input_shape, kernel_initializer='he_normal'))\n",
    "model.add(BatchNormalization())\n",
    "model.add(Activation('relu'))\n",
    "model.add(Conv2D(64, (3, 3), kernel_initializer='he_normal'))\n",
    "model.add(BatchNormalization())\n",
    "model.add(Activation('relu'))\n",
    "model.add(MaxPooling2D(pool_size=(2, 2)))\n",
    "model.add(Dropout(0.25))\n",
    "model.add(Conv2D(128, (3, 3), kernel_initializer='he_normal',padding='same'))\n",
    "model.add(BatchNormalization())\n",
    "model.add(Activation('relu'))\n",
    "model.add(Conv2D(128, (3, 3), kernel_initializer='he_normal',padding='same'))\n",
    "model.add(BatchNormalization())\n",
    "model.add(Activation('relu'))\n",
    "model.add(MaxPooling2D(pool_size=(2, 2)))\n",
    "model.add(Dropout(0.25))\n",
    "model.add(Flatten())\n",
    "model.add(Dense(128))\n",
    "model.add(BatchNormalization())\n",
    "model.add(Activation('relu'))\n",
    "model.add(Dropout(0.30))\n",
    "model.add(Dense(num_classes, activation='softmax'))"
   ]
  },
  {
   "cell_type": "markdown",
   "metadata": {},
   "source": [
    "### Compiling the model\n",
    "\n",
    "The next step is compiling the model where we use gradient descent for the entire neural network. In this step we basically define the method for backpropagation by deciding the optimizer and loss. Backpropagation helps in finding the best values for our parameters(weights and bias) using gradient descent mechanism. The optimizer basically sets the optimal weights. It also updates the learning rate for gradient descent. There are also loss function and a metric to decide the evaluation criteria. Gradient descent tries to minimize the loss. We have used 'categorical_crossentropy' as loss function because of multiple classes, 'binary_crossentropy' can be used instead for binary classfication. We have used a popular optimizer 'adam'."
   ]
  },
  {
   "cell_type": "code",
   "execution_count": 20,
   "metadata": {},
   "outputs": [],
   "source": [
    "model.compile(loss='categorical_crossentropy',\n",
    "              optimizer='adam',\n",
    "              metrics=['accuracy'])"
   ]
  },
  {
   "cell_type": "markdown",
   "metadata": {},
   "source": [
    "### Fitting the model\n",
    "\n",
    "Then we fit the model on training data. Fitting applies backpropogation and gradient descent to the data to update the weights. Here to the fit function we also pass the batch size, epochs and validation split size. One epoch represents the number of times forward and backward propogation takes place such that network has seen the full dataset. Or in other words, 1 pass through the entire data constitutes 1 epoch.Batch size is the number of observations used after which the weights will be updated. Batch size is usually in power of 2, ranging 64,128,256,512 (2^6,2^7,2^8,2^9). Code runs faster when the power of 2 is employed and the batch size is within the range. I have picked early stopping monitor which stops if in 3 epochs there is no improvement in the validation data's metric."
   ]
  },
  {
   "cell_type": "code",
   "execution_count": null,
   "metadata": {},
   "outputs": [],
   "source": [
    "from sklearn.model_selection import train_test_split\n",
    "X_train,X_val,Y_train,Y_val=train_test_split(x_train,y_train,test_size=0.3, random_state=1, shuffle=True, stratify=y_train)"
   ]
  },
  {
   "cell_type": "code",
   "execution_count": 76,
   "metadata": {},
   "outputs": [
    {
     "name": "stdout",
     "output_type": "stream",
     "text": [
      "_________________________________________________________________\n",
      "Layer (type)                 Output Shape              Param #   \n",
      "=================================================================\n",
      "conv2d_9 (Conv2D)            (None, 26, 26, 64)        640       \n",
      "_________________________________________________________________\n",
      "batch_normalization_11 (Batc (None, 26, 26, 64)        256       \n",
      "_________________________________________________________________\n",
      "activation_11 (Activation)   (None, 26, 26, 64)        0         \n",
      "_________________________________________________________________\n",
      "conv2d_10 (Conv2D)           (None, 24, 24, 64)        36928     \n",
      "_________________________________________________________________\n",
      "batch_normalization_12 (Batc (None, 24, 24, 64)        256       \n",
      "_________________________________________________________________\n",
      "activation_12 (Activation)   (None, 24, 24, 64)        0         \n",
      "_________________________________________________________________\n",
      "max_pooling2d_5 (MaxPooling2 (None, 12, 12, 64)        0         \n",
      "_________________________________________________________________\n",
      "dropout_7 (Dropout)          (None, 12, 12, 64)        0         \n",
      "_________________________________________________________________\n",
      "conv2d_11 (Conv2D)           (None, 12, 12, 128)       73856     \n",
      "_________________________________________________________________\n",
      "batch_normalization_13 (Batc (None, 12, 12, 128)       512       \n",
      "_________________________________________________________________\n",
      "activation_13 (Activation)   (None, 12, 12, 128)       0         \n",
      "_________________________________________________________________\n",
      "conv2d_12 (Conv2D)           (None, 12, 12, 128)       147584    \n",
      "_________________________________________________________________\n",
      "batch_normalization_14 (Batc (None, 12, 12, 128)       512       \n",
      "_________________________________________________________________\n",
      "activation_14 (Activation)   (None, 12, 12, 128)       0         \n",
      "_________________________________________________________________\n",
      "max_pooling2d_6 (MaxPooling2 (None, 6, 6, 128)         0         \n",
      "_________________________________________________________________\n",
      "dropout_8 (Dropout)          (None, 6, 6, 128)         0         \n",
      "_________________________________________________________________\n",
      "flatten_3 (Flatten)          (None, 4608)              0         \n",
      "_________________________________________________________________\n",
      "dense_5 (Dense)              (None, 128)               589952    \n",
      "_________________________________________________________________\n",
      "batch_normalization_15 (Batc (None, 128)               512       \n",
      "_________________________________________________________________\n",
      "activation_15 (Activation)   (None, 128)               0         \n",
      "_________________________________________________________________\n",
      "dropout_9 (Dropout)          (None, 128)               0         \n",
      "_________________________________________________________________\n",
      "dense_6 (Dense)              (None, 10)                1290      \n",
      "=================================================================\n",
      "Total params: 852,298\n",
      "Trainable params: 851,274\n",
      "Non-trainable params: 1,024\n",
      "_________________________________________________________________\n"
     ]
    }
   ],
   "source": [
    "model.summary()"
   ]
  },
  {
   "cell_type": "code",
   "execution_count": 77,
   "metadata": {},
   "outputs": [
    {
     "name": "stdout",
     "output_type": "stream",
     "text": [
      "Train on 42000 samples, validate on 18000 samples\n",
      "Epoch 1/20\n",
      "42000/42000 [==============================] - 501s 12ms/step - loss: 0.1711 - acc: 0.9515 - val_loss: 0.0483 - val_acc: 0.9852\n",
      "Epoch 2/20\n",
      "42000/42000 [==============================] - 597s 14ms/step - loss: 0.0575 - acc: 0.9838 - val_loss: 0.0358 - val_acc: 0.9883\n",
      "Epoch 3/20\n",
      "42000/42000 [==============================] - 495s 12ms/step - loss: 0.0430 - acc: 0.9874 - val_loss: 0.0317 - val_acc: 0.9897\n",
      "Epoch 4/20\n",
      "42000/42000 [==============================] - 499s 12ms/step - loss: 0.0346 - acc: 0.9893 - val_loss: 0.0243 - val_acc: 0.9924\n",
      "Epoch 5/20\n",
      "42000/42000 [==============================] - 497s 12ms/step - loss: 0.0285 - acc: 0.9912 - val_loss: 0.0255 - val_acc: 0.9916\n",
      "Epoch 6/20\n",
      "42000/42000 [==============================] - 496s 12ms/step - loss: 0.0250 - acc: 0.9923 - val_loss: 0.0356 - val_acc: 0.9889\n",
      "Epoch 7/20\n",
      "42000/42000 [==============================] - 497s 12ms/step - loss: 0.0165 - acc: 0.9952 - val_loss: 0.0196 - val_acc: 0.9939\n",
      "Epoch 8/20\n",
      "42000/42000 [==============================] - 497s 12ms/step - loss: 0.0135 - acc: 0.9962 - val_loss: 0.0193 - val_acc: 0.9939\n",
      "Epoch 9/20\n",
      "42000/42000 [==============================] - 497s 12ms/step - loss: 0.0110 - acc: 0.9971 - val_loss: 0.0188 - val_acc: 0.9941\n",
      "Epoch 10/20\n",
      "42000/42000 [==============================] - 498s 12ms/step - loss: 0.0112 - acc: 0.9969 - val_loss: 0.0193 - val_acc: 0.9939\n",
      "Epoch 11/20\n",
      "42000/42000 [==============================] - 498s 12ms/step - loss: 0.0109 - acc: 0.9968 - val_loss: 0.0196 - val_acc: 0.9942\n",
      "Epoch 12/20\n",
      "42000/42000 [==============================] - 497s 12ms/step - loss: 0.0087 - acc: 0.9974 - val_loss: 0.0182 - val_acc: 0.9943\n",
      "Epoch 13/20\n",
      "42000/42000 [==============================] - 497s 12ms/step - loss: 0.0087 - acc: 0.9976 - val_loss: 0.0177 - val_acc: 0.9944\n",
      "Epoch 14/20\n",
      "42000/42000 [==============================] - 497s 12ms/step - loss: 0.0083 - acc: 0.9976 - val_loss: 0.0181 - val_acc: 0.9948\n",
      "Epoch 15/20\n",
      "42000/42000 [==============================] - 495s 12ms/step - loss: 0.0077 - acc: 0.9980 - val_loss: 0.0184 - val_acc: 0.9943\n",
      "Epoch 16/20\n",
      "42000/42000 [==============================] - 495s 12ms/step - loss: 0.0073 - acc: 0.9981 - val_loss: 0.0181 - val_acc: 0.9941\n",
      "Epoch 17/20\n",
      "42000/42000 [==============================] - 496s 12ms/step - loss: 0.0068 - acc: 0.9981 - val_loss: 0.0195 - val_acc: 0.9941\n",
      "Epoch 18/20\n",
      "42000/42000 [==============================] - 496s 12ms/step - loss: 0.0061 - acc: 0.9986 - val_loss: 0.0178 - val_acc: 0.9943\n",
      "Epoch 19/20\n",
      "42000/42000 [==============================] - 495s 12ms/step - loss: 0.0070 - acc: 0.9978 - val_loss: 0.0182 - val_acc: 0.9947\n",
      "Epoch 20/20\n",
      "42000/42000 [==============================] - 495s 12ms/step - loss: 0.0058 - acc: 0.9986 - val_loss: 0.0183 - val_acc: 0.9944\n"
     ]
    }
   ],
   "source": [
    "reduced_learning_rate = ReduceLROnPlateau(patience=2,monitor='val_loss',factor=0.2,min_lr=0.0001)\n",
    "batch_size=128\n",
    "epochs= 20\n",
    "history=model.fit(X_train,Y_train,batch_size=batch_size,epochs=epochs,validation_data=(X_val,Y_val),shuffle=True, verbose=1,callbacks=[reduced_learning_rate])"
   ]
  },
  {
   "cell_type": "code",
   "execution_count": 79,
   "metadata": {},
   "outputs": [
    {
     "data": {
      "image/png": "[encoded data removed]",
      "text/plain": [
       "<Figure size 432x288 with 1 Axes>"
      ]
     },
     "metadata": {
      "needs_background": "light"
     },
     "output_type": "display_data"
    }
   ],
   "source": [
    "plt.plot(history.history['acc'],color='r', label=\"Training accuracy\")\n",
    "plt.plot(history.history['val_acc'], color='k', label=\"Validation accuracy\")\n",
    "plt.title('Model Accuracy')\n",
    "plt.ylabel('Accuracy')\n",
    "plt.xlabel('Epoch')\n",
    "plt.legend( loc='best')\n",
    "plt.show()"
   ]
  },
  {
   "cell_type": "code",
   "execution_count": 80,
   "metadata": {},
   "outputs": [
    {
     "data": {
      "image/png": "[encoded data removed]",
      "text/plain": [
       "<Figure size 432x288 with 1 Axes>"
      ]
     },
     "metadata": {
      "needs_background": "light"
     },
     "output_type": "display_data"
    }
   ],
   "source": [
    "plt.plot(history.history['loss'], color='r', label=\"Training loss\")\n",
    "plt.plot(history.history['val_loss'], color='k', label=\"Validation loss\")\n",
    "plt.title('Model Loss')\n",
    "plt.ylabel('Loss')\n",
    "plt.xlabel('Epoch')\n",
    "plt.legend( loc='best')\n",
    "plt.show()"
   ]
  },
  {
   "cell_type": "code",
   "execution_count": 81,
   "metadata": {},
   "outputs": [
    {
     "name": "stdout",
     "output_type": "stream",
     "text": [
      "Test loss: 0.014480746724100027\n",
      "Test accuracy: 0.9951\n"
     ]
    }
   ],
   "source": [
    "score = model.evaluate(x_test, y_test, verbose=0)\n",
    "print('Test loss:', score[0])\n",
    "print('Test accuracy:', score[1])"
   ]
  },
  {
   "cell_type": "code",
   "execution_count": 84,
   "metadata": {},
   "outputs": [
    {
     "data": {
      "image/png": "[encoded data removed]",
      "text/plain": [
       "<Figure size 720x720 with 2 Axes>"
      ]
     },
     "metadata": {
      "needs_background": "light"
     },
     "output_type": "display_data"
    }
   ],
   "source": [
    "from sklearn.metrics import confusion_matrix\n",
    "y_pred=model4.predict(x_test)\n",
    "y_pred_classes=np.argmax(y_pred, axis=1)\n",
    "y_true_classes=np.argmax(y_test, axis=1)\n",
    "confusion_mtx=confusion_matrix(y_true_classes,y_pred_classes)\n",
    "fig,ax=plt.subplots(figsize=(10,10))\n",
    "sns.heatmap(confusion_mtx,fmt='.1f', annot=True, cmap=\"YlGnBu\")\n",
    "plt.xlabel('predicted values')\n",
    "plt.ylabel('true values')\n",
    "plt.title('Confusion matrix')\n",
    "plt.show()"
   ]
  },
  {
   "cell_type": "code",
   "execution_count": null,
   "metadata": {},
   "outputs": [],
   "source": []
  }
 ],
 "metadata": {
  "kernelspec": {
   "display_name": "Python 2",
   "language": "python",
   "name": "python2"
  },
  "language_info": {
   "codemirror_mode": {
    "name": "ipython",
    "version": 2
   },
   "file_extension": ".py",
   "mimetype": "text/x-python",
   "name": "python",
   "nbconvert_exporter": "python",
   "pygments_lexer": "ipython2",
   "version": "2.7.15"
  }
 },
 "nbformat": 4,
 "nbformat_minor": 2
}
