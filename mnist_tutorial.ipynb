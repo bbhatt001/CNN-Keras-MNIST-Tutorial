{
 "cells": [
  {
   "cell_type": "markdown",
   "metadata": {},
   "source": [
    "Keras is a high level python API which uses either Theano or Tensorflow or CNTK (Microsoft Cognitive Toolkit) as back-end to build and train neural networks. This tutorial was made to self-teach a simple CNN using Keras."
   ]
  },
  {
   "cell_type": "code",
   "execution_count": 49,
   "metadata": {},
   "outputs": [],
   "source": [
    "import keras"
   ]
  },
  {
   "cell_type": "markdown",
   "metadata": {},
   "source": [
    "Here, I have used MNIST database (Modified National Institute of Standards and Technology database) which contains handwritten images from 0 to 9. There are 60,000 images in training set and 10,000 for test set."
   ]
  },
  {
   "cell_type": "code",
   "execution_count": 50,
   "metadata": {},
   "outputs": [],
   "source": [
    "from keras.datasets import mnist"
   ]
  },
  {
   "cell_type": "code",
   "execution_count": 51,
   "metadata": {},
   "outputs": [],
   "source": [
    "from keras.models import Sequential\n",
    "from keras.layers import Dense, Dropout, Flatten, Activation\n",
    "from keras.layers import Conv2D, MaxPooling2D \n",
    "from keras.utils import to_categorical\n",
    "from keras.callbacks import EarlyStopping\n",
    "from keras import backend as K\n",
    "import seaborn as sns"
   ]
  },
  {
   "cell_type": "code",
   "execution_count": 52,
   "metadata": {},
   "outputs": [],
   "source": [
    "import numpy as np\n",
    "seed=101\n",
    "np.random.seed(seed)\n",
    "import pandas as pd\n",
    "import matplotlib.pyplot as plt"
   ]
  },
  {
   "cell_type": "code",
   "execution_count": 53,
   "metadata": {},
   "outputs": [],
   "source": [
    "(X_train,y_train),(X_test,y_test)= mnist.load_data()"
   ]
  },
  {
   "cell_type": "markdown",
   "metadata": {},
   "source": [
    "X_train and X_test are 3-dimensional array of number of instance, image width and height."
   ]
  },
  {
   "cell_type": "code",
   "execution_count": 54,
   "metadata": {},
   "outputs": [
    {
     "data": {
      "text/plain": [
       "(60000, 28, 28)"
      ]
     },
     "execution_count": 54,
     "metadata": {},
     "output_type": "execute_result"
    }
   ],
   "source": [
    "X_train.shape"
   ]
  },
  {
   "cell_type": "code",
   "execution_count": 55,
   "metadata": {},
   "outputs": [
    {
     "data": {
      "text/plain": [
       "(60000,)"
      ]
     },
     "execution_count": 55,
     "metadata": {},
     "output_type": "execute_result"
    }
   ],
   "source": [
    "y_train.shape"
   ]
  },
  {
   "cell_type": "code",
   "execution_count": 56,
   "metadata": {},
   "outputs": [
    {
     "data": {
      "text/plain": [
       "(10000, 28, 28)"
      ]
     },
     "execution_count": 56,
     "metadata": {},
     "output_type": "execute_result"
    }
   ],
   "source": [
    "X_test.shape"
   ]
  },
  {
   "cell_type": "markdown",
   "metadata": {},
   "source": [
    "In order, Keras with Tensorflow back-end accepts the images we reshape our data."
   ]
  },
  {
   "cell_type": "code",
   "execution_count": 57,
   "metadata": {},
   "outputs": [],
   "source": [
    "width, height= 28,28\n",
    "#as the images are grayscale, only one channel is present\n",
    "channel=1\n",
    "x_train=X_train.reshape(X_train.shape[0],width, height,channel).astype('float32')\n",
    "x_test=X_test.reshape(X_test.shape[0],width, height,channel).astype('float32')"
   ]
  },
  {
   "cell_type": "markdown",
   "metadata": {},
   "source": [
    "Our input shape is width, height and number of channels of the images."
   ]
  },
  {
   "cell_type": "code",
   "execution_count": 58,
   "metadata": {},
   "outputs": [],
   "source": [
    "input_shape= (width,height,1)"
   ]
  },
  {
   "cell_type": "markdown",
   "metadata": {},
   "source": [
    "Next, we normalize the pixels values to the range of 0 and 1. "
   ]
  },
  {
   "cell_type": "code",
   "execution_count": 59,
   "metadata": {},
   "outputs": [],
   "source": [
    "x_train/=255\n",
    "x_test/=255"
   ]
  },
  {
   "cell_type": "markdown",
   "metadata": {},
   "source": [
    "Next, I randomly picked a x_train sample to check how the data looks like. Also, I checked its corresponding label."
   ]
  },
  {
   "cell_type": "code",
   "execution_count": 60,
   "metadata": {},
   "outputs": [
    {
     "data": {
      "text/plain": [
       "3"
      ]
     },
     "execution_count": 60,
     "metadata": {},
     "output_type": "execute_result"
    },
    {
     "data": {
      "image/png": "[encoded data removed]",
      "text/plain": [
       "<Figure size 432x288 with 1 Axes>"
      ]
     },
     "metadata": {
      "needs_background": "light"
     },
     "output_type": "display_data"
    }
   ],
   "source": [
    "plt.imshow(x_train[7][:,:,0])\n",
    "plt.axis('off')\n",
    "y_train[7]"
   ]
  },
  {
   "cell_type": "markdown",
   "metadata": {},
   "source": [
    "Next, I checked how the distribution of digits looks like."
   ]
  },
  {
   "cell_type": "code",
   "execution_count": 66,
   "metadata": {},
   "outputs": [
    {
     "data": {
      "text/plain": [
       "<matplotlib.axes._subplots.AxesSubplot at 0x13eaebba8>"
      ]
     },
     "execution_count": 66,
     "metadata": {},
     "output_type": "execute_result"
    },
    {
     "data": {
      "image/png": "[encoded data removed]",
      "text/plain": [
       "<Figure size 432x288 with 1 Axes>"
      ]
     },
     "metadata": {
      "needs_background": "light"
     },
     "output_type": "display_data"
    }
   ],
   "source": [
    "sns.countplot(y_train,palette='Paired')"
   ]
  },
  {
   "cell_type": "code",
   "execution_count": 14,
   "metadata": {},
   "outputs": [
    {
     "data": {
      "text/plain": [
       "(60000,)"
      ]
     },
     "execution_count": 14,
     "metadata": {},
     "output_type": "execute_result"
    }
   ],
   "source": [
    "y_train.shape"
   ]
  },
  {
   "cell_type": "code",
   "execution_count": 15,
   "metadata": {},
   "outputs": [
    {
     "data": {
      "text/plain": [
       "3"
      ]
     },
     "execution_count": 15,
     "metadata": {},
     "output_type": "execute_result"
    }
   ],
   "source": [
    "y_train[7]"
   ]
  },
  {
   "cell_type": "markdown",
   "metadata": {},
   "source": [
    "As the labels are in integer form from 0 to 9 and we have a multi-class classification problem, we use one hot encoding to convert them into binary matrix of 10 dimensions(=number of class labels), which is done below."
   ]
  },
  {
   "cell_type": "code",
   "execution_count": 16,
   "metadata": {},
   "outputs": [
    {
     "name": "stdout",
     "output_type": "stream",
     "text": [
      "[0. 0. 0. 1. 0. 0. 0. 0. 0. 0.]\n"
     ]
    },
    {
     "data": {
      "text/plain": [
       "(60000, 10)"
      ]
     },
     "execution_count": 16,
     "metadata": {},
     "output_type": "execute_result"
    }
   ],
   "source": [
    "num_classes=10\n",
    "y_train=to_categorical(y_train, num_classes)\n",
    "y_test=to_categorical(y_test, num_classes)\n",
    "print(y_train[7])\n",
    "y_train.shape"
   ]
  },
  {
   "cell_type": "markdown",
   "metadata": {},
   "source": [
    "### Model architecture\n",
    "\n",
    "Next step is defining the model architecture. In this we decide the architecture of the model i.e. we decide the model (in most cases we take sequential model-which is a linear stack of layers i.e. you keep adding layers one after the other), how many nodes, how many hidden layers we need in each layer, activation function, etc. Here, in the first input layer we have to mention the input shape which is the dimenion of our input data. Convolution layer applies some convolution filters (also called kernels) to the image. Each filter performs some mathematical operation on each subregion of the image that produces a single value that is the output feature map. In this operation, the filter slides over the image and everytime it calculates a dot product that gives a single number for each operation. The final output is a matrix. The number of pixels by which the window slides is called stride. This operation of convolving the filter on the image is called 'convolution'. If the image is of dimension NxN with C number of channels, then we use a filter with dimension of FxF and the number of channels for filter is equal to C. After every convolution, the image size shrinks and becomes (N-F)/S +1. In order to avoid this and to avoid loss of information in the edges of images, we use padding. If we use a padding of 2 on both side then the size of the output layer stays the same as the input layer with (N-F+2P)/S+1. The convolution layers then apply activation function on the output matrix that introduces non-linearity in the model. The most common one is ReLU activation function (Rectified Linear Unit) . The number 32,3,3 corresponds to the number of convolution filters, the number of rows in each convolution kernel and then number of columns in each convolution kernel respectively. Pooling layer can be added after Convolution layer. It reduces the number of parameters, hence overfitting and also reduces computation, decreasing training time. The image data extracted by convolution layers is downsampled by this. One can either use either MaxPooling2D which extracts subfeatures of the image, keeps the maximum value and discards the rest or Average Pooling which takes the average of the features. Dropout layer is important for regularization as it reduces overfitting. Sometimes, AveragePooling is used instead, where instead of keeping the maximum value, an average of the subfeatures is kept. The pooling layers can be of Fx F dimension and slides over the image of dimensions NxN and picks either the maximum or the average from FxF region of the image. Unlike convolution layer, maxpooling does not have specified parameters like weights and bias. Dropout layer randomly silences some nodes in the layer, i.e. the weights associated are made 0. Also reduces computation thereby increasing the training speed of the neural network. Also, the weights from convolution layer has to be flattened, i.e. made into a single dimension, before passing to the Dense layer (where every node is connected to all the nodes in the other layer). As there are multiple classes in this dataset we have used 'Softmax' activation. For binary classification a 'Sigmoid' activation can be used instead.\n"
   ]
  },
  {
   "cell_type": "code",
   "execution_count": 19,
   "metadata": {},
   "outputs": [],
   "source": [
    "model=Sequential()\n",
    "model.add(Conv2D(64, kernel_size=(3, 3),\n",
    "                 activation='relu',\n",
    "                 input_shape=input_shape))\n",
    "model.add(Conv2D(64, (3, 3), activation='relu'))\n",
    "model.add(MaxPooling2D(pool_size=(2, 2)))\n",
    "model.add(Dropout(0.25))\n",
    "model.add(Flatten())\n",
    "model.add(Dense(128, activation='relu'))\n",
    "model.add(Dropout(0.5))\n",
    "model.add(Dense(num_classes, activation='softmax'))"
   ]
  },
  {
   "cell_type": "markdown",
   "metadata": {},
   "source": [
    "### Compiling the model\n",
    "\n",
    "The next step is compiling the model where we use gradient descent for the entire neural network. In this step we basically, define the method for backpropagation by deciding the optimizer, loss. Backpropagation helps in finding the best values for our parameters(weights and bias) using gradient descent mechanism. The optimizer basically sets the optimal weights. It also updates the learning rate for gradient descent. There are also loss function and a metric to decide the evaluation criteria. Gradient descent tries to minimize the loss. We have used 'categorical_crossentropy' as loss function because of multiple classes, 'binary_crossentropy' can be used instead for binary classfication. We have used a popular optimizer 'adam'."
   ]
  },
  {
   "cell_type": "code",
   "execution_count": 20,
   "metadata": {},
   "outputs": [],
   "source": [
    "model.compile(loss='categorical_crossentropy',\n",
    "              optimizer='adam',\n",
    "              metrics=['accuracy'])"
   ]
  },
  {
   "cell_type": "markdown",
   "metadata": {},
   "source": [
    "### Fitting the model\n",
    "\n",
    "Then we fit the model on training data. Fitting applies backpropogation and gradient descent to the data to update the weights. Here to the fit function we also pass the batch size, epochs and validation split size. One epoch represents the number of times forward and backward propogation takes place such that network has seen the full dataset. Or in other words, 1 pass through the entire data constitutes 1 epoch.Batch size is the number of observations used after which the weights will be updated. Batch size is usually in power of 2,ranging 64,128,256,512 (2^6,2^7,2^8,2^9). Code runs faster when the power of 2 is employed and the batch size is within the range. I have picked early stopping monitor which stops if in 3 epochs there is no improvement in the validation data's metric."
   ]
  },
  {
   "cell_type": "code",
   "execution_count": 24,
   "metadata": {},
   "outputs": [
    {
     "name": "stdout",
     "output_type": "stream",
     "text": [
      "Train on 42000 samples, validate on 18000 samples\n",
      "Epoch 1/16\n",
      "42000/42000 [==============================] - 168s 4ms/step - loss: 0.0234 - acc: 0.9924 - val_loss: 0.0415 - val_acc: 0.9893\n",
      "Epoch 2/16\n",
      "42000/42000 [==============================] - 180s 4ms/step - loss: 0.0233 - acc: 0.9920 - val_loss: 0.0396 - val_acc: 0.9890\n",
      "Epoch 3/16\n",
      "42000/42000 [==============================] - 186s 4ms/step - loss: 0.0221 - acc: 0.9926 - val_loss: 0.0427 - val_acc: 0.9888\n",
      "Epoch 4/16\n",
      "42000/42000 [==============================] - 175s 4ms/step - loss: 0.0208 - acc: 0.9928 - val_loss: 0.0451 - val_acc: 0.9894\n",
      "Epoch 5/16\n",
      "42000/42000 [==============================] - 191s 5ms/step - loss: 0.0193 - acc: 0.9936 - val_loss: 0.0432 - val_acc: 0.9897\n"
     ]
    }
   ],
   "source": [
    "early_stopping_monitor = EarlyStopping(patience=3)\n",
    "batch_size=128\n",
    "epochs= 16\n",
    "history=model.fit(x_train,y_train,batch_size=batch_size,epochs=epochs,validation_split=0.3, verbose=1,callbacks=[early_stopping_monitor])"
   ]
  },
  {
   "cell_type": "code",
   "execution_count": 25,
   "metadata": {},
   "outputs": [
    {
     "name": "stdout",
     "output_type": "stream",
     "text": [
      "Test loss: 0.03128946689307582\n",
      "Test accuracy: 0.9908\n"
     ]
    }
   ],
   "source": [
    "score = model.evaluate(x_test, y_test, verbose=0)\n",
    "print('Test loss:', score[0])\n",
    "print('Test accuracy:', score[1])"
   ]
  },
  {
   "cell_type": "markdown",
   "metadata": {},
   "source": [
    "In the next 2 graphs you can see while the accuracy increased for the validation set but loss was also higher than the minimum obtained. Why this happens, I am still trying to find out."
   ]
  },
  {
   "cell_type": "code",
   "execution_count": 38,
   "metadata": {},
   "outputs": [
    {
     "data": {
      "image/png": "[encoded data removed]",
      "text/plain": [
       "<Figure size 432x288 with 1 Axes>"
      ]
     },
     "metadata": {
      "needs_background": "light"
     },
     "output_type": "display_data"
    }
   ],
   "source": [
    "plt.plot(history.history['acc'],color='r', label=\"Training accuracy\")\n",
    "plt.plot(history.history['val_acc'], color='k', label=\"Val accuracy\")\n",
    "plt.title('Model Accuracy')\n",
    "plt.ylabel('Accuracy')\n",
    "plt.xlabel('Epoch')\n",
    "plt.legend( loc='best')\n",
    "plt.show()"
   ]
  },
  {
   "cell_type": "code",
   "execution_count": 40,
   "metadata": {},
   "outputs": [
    {
     "data": {
      "image/png": "[encoded data removed]",
      "text/plain": [
       "<Figure size 432x288 with 1 Axes>"
      ]
     },
     "metadata": {
      "needs_background": "light"
     },
     "output_type": "display_data"
    }
   ],
   "source": [
    "plt.plot(history.history['loss'], color='r', label=\"Training loss\")\n",
    "plt.plot(history.history['val_loss'], color='k', label=\"Val loss\")\n",
    "plt.title('Model Loss')\n",
    "plt.ylabel('Loss')\n",
    "plt.xlabel('Epoch')\n",
    "plt.legend(['train', 'test'], loc='best')\n",
    "plt.show()"
   ]
  },
  {
   "cell_type": "markdown",
   "metadata": {},
   "source": [
    "Rest below, is just me playing with the various architecture and trying to find out the reason behind validation accuracy increasing along with validation loss. So, feel free to skip this."
   ]
  },
  {
   "cell_type": "code",
   "execution_count": 45,
   "metadata": {},
   "outputs": [],
   "source": [
    "model_2=Sequential()\n",
    "model_2.add(Conv2D(64, kernel_size=(3, 3),\n",
    "                 activation='relu',\n",
    "                 input_shape=input_shape))\n",
    "model_2.add(Conv2D(64, (3, 3), activation='relu'))\n",
    "model_2.add(MaxPooling2D(pool_size=(2, 2)))\n",
    "model_2.add(Dropout(0.25))\n",
    "model_2.add(Flatten())\n",
    "model_2.add(Dense(128, activation='relu'))\n",
    "model_2.add(Dropout(0.5))\n",
    "model_2.add(Dense(num_classes, activation='softmax'))"
   ]
  },
  {
   "cell_type": "code",
   "execution_count": 46,
   "metadata": {},
   "outputs": [],
   "source": [
    "model_2.compile(loss='categorical_crossentropy',\n",
    "              optimizer='adam',\n",
    "              metrics=['accuracy'])"
   ]
  },
  {
   "cell_type": "code",
   "execution_count": 47,
   "metadata": {},
   "outputs": [
    {
     "name": "stdout",
     "output_type": "stream",
     "text": [
      "Train on 42000 samples, validate on 18000 samples\n",
      "Epoch 1/16\n",
      "42000/42000 [==============================] - 175s 4ms/step - loss: 0.2750 - acc: 0.9163 - val_loss: 0.0686 - val_acc: 0.9787\n",
      "Epoch 2/16\n",
      "42000/42000 [==============================] - 171s 4ms/step - loss: 0.0913 - acc: 0.9727 - val_loss: 0.0516 - val_acc: 0.9842\n",
      "Epoch 3/16\n",
      "42000/42000 [==============================] - 172s 4ms/step - loss: 0.0681 - acc: 0.9798 - val_loss: 0.0445 - val_acc: 0.9870\n",
      "Epoch 4/16\n",
      "42000/42000 [==============================] - 172s 4ms/step - loss: 0.0541 - acc: 0.9826 - val_loss: 0.0460 - val_acc: 0.9864\n",
      "Epoch 5/16\n",
      "42000/42000 [==============================] - 173s 4ms/step - loss: 0.0468 - acc: 0.9853 - val_loss: 0.0447 - val_acc: 0.9860\n",
      "Epoch 6/16\n",
      "42000/42000 [==============================] - 173s 4ms/step - loss: 0.0381 - acc: 0.9876 - val_loss: 0.0421 - val_acc: 0.9882\n",
      "Epoch 7/16\n",
      "42000/42000 [==============================] - 172s 4ms/step - loss: 0.0345 - acc: 0.9887 - val_loss: 0.0427 - val_acc: 0.9876\n",
      "Epoch 8/16\n",
      "42000/42000 [==============================] - 174s 4ms/step - loss: 0.0345 - acc: 0.9890 - val_loss: 0.0382 - val_acc: 0.9895\n",
      "Epoch 9/16\n",
      "42000/42000 [==============================] - 173s 4ms/step - loss: 0.0288 - acc: 0.9906 - val_loss: 0.0466 - val_acc: 0.9866\n",
      "Epoch 10/16\n",
      "42000/42000 [==============================] - 176s 4ms/step - loss: 0.0281 - acc: 0.9908 - val_loss: 0.0451 - val_acc: 0.9876\n",
      "Epoch 11/16\n",
      "42000/42000 [==============================] - 173s 4ms/step - loss: 0.0265 - acc: 0.9911 - val_loss: 0.0371 - val_acc: 0.9894\n",
      "Epoch 12/16\n",
      "42000/42000 [==============================] - 170s 4ms/step - loss: 0.0215 - acc: 0.9931 - val_loss: 0.0425 - val_acc: 0.9888\n",
      "Epoch 13/16\n",
      "42000/42000 [==============================] - 170s 4ms/step - loss: 0.0218 - acc: 0.9930 - val_loss: 0.0394 - val_acc: 0.9898\n",
      "Epoch 14/16\n",
      "42000/42000 [==============================] - 170s 4ms/step - loss: 0.0189 - acc: 0.9937 - val_loss: 0.0421 - val_acc: 0.9904\n",
      "Epoch 15/16\n",
      "42000/42000 [==============================] - 173s 4ms/step - loss: 0.0213 - acc: 0.9932 - val_loss: 0.0383 - val_acc: 0.9906\n",
      "Epoch 16/16\n",
      "42000/42000 [==============================] - 178s 4ms/step - loss: 0.0172 - acc: 0.9943 - val_loss: 0.0395 - val_acc: 0.9904\n"
     ]
    }
   ],
   "source": [
    "batch_size=128\n",
    "epochs= 16\n",
    "history_2=model_2.fit(x_train,y_train,batch_size=batch_size,epochs=epochs,validation_split=0.3, verbose=1)"
   ]
  },
  {
   "cell_type": "code",
   "execution_count": 48,
   "metadata": {},
   "outputs": [
    {
     "name": "stdout",
     "output_type": "stream",
     "text": [
      "Test loss: 0.030474895816454774\n",
      "Test accuracy: 0.9914\n"
     ]
    }
   ],
   "source": [
    "score = model_2.evaluate(x_test, y_test, verbose=0)\n",
    "print('Test loss:', score[0])\n",
    "print('Test accuracy:', score[1])"
   ]
  },
  {
   "cell_type": "code",
   "execution_count": 26,
   "metadata": {},
   "outputs": [],
   "source": [
    "model_1=Sequential()\n",
    "model_1.add(Conv2D(64, kernel_size=(3, 3),\n",
    "                 activation='relu',\n",
    "                 input_shape=input_shape))\n",
    "model_1.add(Conv2D(128, (3, 3), activation='relu'))\n",
    "model_1.add(MaxPooling2D(pool_size=(2, 2)))\n",
    "model_1.add(Dropout(0.25))\n",
    "model_1.add(Flatten())\n",
    "model_1.add(Dense(128, activation='relu'))\n",
    "model_1.add(Dropout(0.5))\n",
    "model_1.add(Dense(num_classes, activation='softmax'))"
   ]
  },
  {
   "cell_type": "code",
   "execution_count": 27,
   "metadata": {},
   "outputs": [],
   "source": [
    "model_1.compile(loss='categorical_crossentropy',\n",
    "              optimizer='adam',\n",
    "              metrics=['accuracy'])"
   ]
  },
  {
   "cell_type": "code",
   "execution_count": 31,
   "metadata": {},
   "outputs": [
    {
     "name": "stdout",
     "output_type": "stream",
     "text": [
      "Train on 42000 samples, validate on 18000 samples\n",
      "Epoch 1/16\n",
      "42000/42000 [==============================] - 347s 8ms/step - loss: 0.0866 - acc: 0.9740 - val_loss: 0.0484 - val_acc: 0.9849\n",
      "Epoch 2/16\n",
      "42000/42000 [==============================] - 317s 8ms/step - loss: 0.0639 - acc: 0.9805 - val_loss: 0.0439 - val_acc: 0.9876\n",
      "Epoch 3/16\n",
      "42000/42000 [==============================] - 344s 8ms/step - loss: 0.0491 - acc: 0.9846 - val_loss: 0.0390 - val_acc: 0.9888\n",
      "Epoch 4/16\n",
      "42000/42000 [==============================] - 360s 9ms/step - loss: 0.0421 - acc: 0.9868 - val_loss: 0.0419 - val_acc: 0.9883\n",
      "Epoch 5/16\n",
      "42000/42000 [==============================] - 360s 9ms/step - loss: 0.0375 - acc: 0.9884 - val_loss: 0.0414 - val_acc: 0.9891\n",
      "Epoch 6/16\n",
      "42000/42000 [==============================] - 334s 8ms/step - loss: 0.0277 - acc: 0.9912 - val_loss: 0.0410 - val_acc: 0.9882\n"
     ]
    }
   ],
   "source": [
    "early_stopping_monitor = EarlyStopping(patience=3)\n",
    "batch_size=128\n",
    "epochs= 16\n",
    "history_1=model_1.fit(x_train,y_train,batch_size=batch_size,epochs=epochs,validation_split=0.3, verbose=1,callbacks=[early_stopping_monitor])"
   ]
  },
  {
   "cell_type": "code",
   "execution_count": 41,
   "metadata": {},
   "outputs": [
    {
     "name": "stdout",
     "output_type": "stream",
     "text": [
      "Test loss: 0.0325624964931103\n",
      "Test accuracy: 0.9899\n"
     ]
    }
   ],
   "source": [
    "score = model_1.evaluate(x_test, y_test, verbose=0)\n",
    "print('Test loss:', score[0])\n",
    "print('Test accuracy:', score[1])"
   ]
  },
  {
   "cell_type": "code",
   "execution_count": 43,
   "metadata": {},
   "outputs": [
    {
     "data": {
      "text/plain": [
       "[0.0325624964931103, 0.9899]"
      ]
     },
     "execution_count": 43,
     "metadata": {},
     "output_type": "execute_result"
    }
   ],
   "source": [
    "score"
   ]
  },
  {
   "cell_type": "code",
   "execution_count": 67,
   "metadata": {},
   "outputs": [],
   "source": [
    "model.save_weights('my_model.h5')"
   ]
  },
  {
   "cell_type": "code",
   "execution_count": null,
   "metadata": {},
   "outputs": [],
   "source": []
  }
 ],
 "metadata": {
  "kernelspec": {
   "display_name": "Python 3",
   "language": "python",
   "name": "python3"
  },
  "language_info": {
   "codemirror_mode": {
    "name": "ipython",
    "version": 3
   },
   "file_extension": ".py",
   "mimetype": "text/x-python",
   "name": "python",
   "nbconvert_exporter": "python",
   "pygments_lexer": "ipython3",
   "version": "3.5.1"
  }
 },
 "nbformat": 4,
 "nbformat_minor": 2
}
